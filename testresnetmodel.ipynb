{
 "cells": [
  {
   "cell_type": "code",
   "execution_count": null,
   "metadata": {},
   "outputs": [],
   "source": [
    "from unet import UNet\n",
    "import torch\n",
    "\n",
    "unet_model_path = \"unet_model.pth\"\n",
    "\n",
    "device = torch.device(\"cuda\" if torch.cuda.is_available() else \"cpu\")\n",
    "unet_model = UNet().to(device)\n",
    "unet_model.load_state_dict(torch.load(unet_model_path))\n",
    "unet_model.eval()"
   ]
  },
  {
   "cell_type": "code",
   "execution_count": null,
   "metadata": {},
   "outputs": [],
   "source": [
    "from resnet import ResNetCNN\n",
    "\n",
    "resnet_model_path = \"resnet_model.pth\"\n",
    "\n",
    "#device = torch.device(\"cuda\" if torch.cuda.is_available() else \"cpu\")\n",
    "resnet_model = ResNetCNN().to(device)\n",
    "resnet_model.load_state_dict(torch.load(resnet_model_path))\n",
    "resnet_model.eval()"
   ]
  },
  {
   "cell_type": "code",
   "execution_count": 3,
   "metadata": {},
   "outputs": [],
   "source": [
    "from dataset import RESNETTestset\n",
    "from torch.utils.data import DataLoader\n",
    "\n",
    "test1_dir = '../chest_xray/test/NORMAL'\n",
    "test2_dir = '../chest_xray/test/PNEUMONIA'\n",
    "\n",
    "test1_dataset = RESNETTestset(unet_model, device, test1_dir, target_size=(256, 256))\n",
    "test1_loader = DataLoader(test1_dataset, batch_size=1)\n",
    "\n",
    "test2_dataset = RESNETTestset(unet_model, device, test2_dir, target_size=(256, 256))\n",
    "test2_loader = DataLoader(test2_dataset, batch_size=1)"
   ]
  },
  {
   "cell_type": "code",
   "execution_count": null,
   "metadata": {},
   "outputs": [],
   "source": [
    "with torch.no_grad():\n",
    "    test1_len = 0\n",
    "    test1_count = 0\n",
    "    for idx, image in enumerate(test1_loader):\n",
    "        image = image.to(device)\n",
    "        output = resnet_model(image.repeat(1, 3, 1, 1))\n",
    "        prediction = torch.sigmoid(output).cpu()\n",
    "        eval = prediction[0, 0].item() > prediction[0, 1].item()\n",
    "        #print(idx, prediction)\n",
    "        \n",
    "        test1_len += 1\n",
    "        if eval:\n",
    "            test1_count += 1\n",
    "            \n",
    "        #if idx > 10: break\n",
    "            \n",
    "    test2_len = 0\n",
    "    test2_count = 0\n",
    "    for idx, image in enumerate(test2_loader):\n",
    "        image = image.to(device)\n",
    "        output = resnet_model(image.repeat(1, 3, 1, 1))\n",
    "        prediction = torch.sigmoid(output).cpu()\n",
    "        eval = prediction[0, 0].item() < prediction[0, 1].item()\n",
    "        #print(idx, prediction)\n",
    "        \n",
    "        test2_len += 1\n",
    "        if eval:\n",
    "            test2_count += 1\n",
    "        \n",
    "        #if idx > 10: break\n",
    "    \n",
    "    print(f'test1 : {100 * test1_count / test1_len:.2f}%')\n",
    "    print(f'test2 : {100 * test2_count / test2_len:.2f}%')"
   ]
  }
 ],
 "metadata": {
  "kernelspec": {
   "display_name": "env_lsy",
   "language": "python",
   "name": "python3"
  },
  "language_info": {
   "codemirror_mode": {
    "name": "ipython",
    "version": 3
   },
   "file_extension": ".py",
   "mimetype": "text/x-python",
   "name": "python",
   "nbconvert_exporter": "python",
   "pygments_lexer": "ipython3",
   "version": "3.12.8"
  }
 },
 "nbformat": 4,
 "nbformat_minor": 2
}
