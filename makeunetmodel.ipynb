{
 "cells": [
  {
   "cell_type": "code",
   "execution_count": 1,
   "metadata": {},
   "outputs": [],
   "source": [
    "import itk\n",
    "import torch\n",
    "import torch.nn as nn\n",
    "import torch.optim as optim\n",
    "from torch.utils.data import DataLoader"
   ]
  },
  {
   "cell_type": "code",
   "execution_count": 2,
   "metadata": {},
   "outputs": [],
   "source": [
    "from dataset import ITKDataset\n",
    "# ================================\n",
    "# 3. 데이터 로드 및 분할\n",
    "# ================================\n",
    "image_dir = \"../dataset/images\"\n",
    "mask_dir = \"../dataset/masks\"\n",
    "\n",
    "# 전체 데이터셋\n",
    "dataset = ITKDataset(image_dir, mask_dir, target_size=(256, 256))\n",
    "\n",
    "# DataLoader\n",
    "train_loader = DataLoader(dataset, batch_size=4, shuffle=True)\n"
   ]
  },
  {
   "cell_type": "code",
   "execution_count": 3,
   "metadata": {},
   "outputs": [],
   "source": [
    "from unet import UNet\n",
    "# ================================\n",
    "# 4. 모델 및 학습 설정\n",
    "# ================================\n",
    "device = torch.device(\"cuda:1\" if torch.cuda.is_available() else \"cpu\")\n",
    "model = UNet().to(device)\n",
    "criterion = nn.BCEWithLogitsLoss()\n",
    "#optimizer = optim.Adam(model.parameters(), lr=1e-4)\n",
    "optimizer = optim.RMSprop(model.parameters(), lr=1e-4)\n",
    "\n",
    "# 모델 저장 경로\n",
    "model_save_path = \"unet_model.pth\"\n"
   ]
  },
  {
   "cell_type": "code",
   "execution_count": null,
   "metadata": {},
   "outputs": [],
   "source": [
    "# ================================\n",
    "# 5. 훈련 루프 및 모델 저장\n",
    "# ================================\n",
    "min = 999\n",
    "num_epochs = 60\n",
    "for epoch in range(num_epochs):\n",
    "    model.train()\n",
    "    epoch_loss = 0\n",
    "\n",
    "    for images, masks in train_loader:\n",
    "        images, masks = images.to(device), masks.to(device)\n",
    "\n",
    "        optimizer.zero_grad()\n",
    "        outputs = model(images)\n",
    "        loss = criterion(outputs, masks)\n",
    "        loss.backward()\n",
    "        optimizer.step()\n",
    "\n",
    "        epoch_loss += loss.item()\n",
    "\n",
    "    print(f\"Epoch {epoch + 1}/{num_epochs}, Loss: {epoch_loss:.5f}\")\n",
    "    if min > epoch_loss:\n",
    "        torch.save(model.state_dict(), model_save_path)\n",
    "        print(f\"Model {epoch + 1} saved to {model_save_path}\")\n",
    "        min = epoch_loss\n",
    "\n",
    "# 학습된 모델 저장\n",
    "#torch.save(model.state_dict(), model_save_path)\n",
    "#print(f\"Model saved to {model_save_path}\")\n"
   ]
  }
 ],
 "metadata": {
  "kernelspec": {
   "display_name": "env_lsy",
   "language": "python",
   "name": "python3"
  },
  "language_info": {
   "codemirror_mode": {
    "name": "ipython",
    "version": 3
   },
   "file_extension": ".py",
   "mimetype": "text/x-python",
   "name": "python",
   "nbconvert_exporter": "python",
   "pygments_lexer": "ipython3",
   "version": "3.12.8"
  }
 },
 "nbformat": 4,
 "nbformat_minor": 2
}
